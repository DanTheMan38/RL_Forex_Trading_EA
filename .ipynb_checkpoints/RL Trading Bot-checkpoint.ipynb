{
 "cells": [
  {
   "cell_type": "code",
   "execution_count": 42,
   "id": "ad6fcadc-6961-4263-90b7-3e77277153e1",
   "metadata": {},
   "outputs": [
    {
     "name": "stdout",
     "output_type": "stream",
     "text": [
      "  <DATE>\\t<TIME>\\t<OPEN>\\t<HIGH>\\t<LOW>\\t<CLOSE>\\t<TICKVOL>\\t<VOL>\\t<SPREAD>\n",
      "0  2022.10.03\\t00:00:00\\t0.98008\\t0.98008\\t0.9783...                        \n",
      "1  2022.10.03\\t01:00:00\\t0.97950\\t0.98087\\t0.9790...                        \n",
      "2  2022.10.03\\t02:00:00\\t0.98003\\t0.98028\\t0.9789...                        \n",
      "3  2022.10.03\\t03:00:00\\t0.97934\\t0.98040\\t0.9785...                        \n",
      "4  2022.10.03\\t04:00:00\\t0.98015\\t0.98286\\t0.9801...                        \n"
     ]
    }
   ],
   "source": [
    "import pandas as pd\n",
    "\n",
    "df = pd.read_csv(r'C:\\Users\\Daniel\\Documents\\Trading\\EURUSD-H1-2Years.csv')\n",
    "print(df.head())"
   ]
  },
  {
   "cell_type": "code",
   "execution_count": null,
   "id": "54482684-b97a-403c-880c-b0a67d48c111",
   "metadata": {},
   "outputs": [],
   "source": []
  }
 ],
 "metadata": {
  "kernelspec": {
   "display_name": "Python 3 (ipykernel)",
   "language": "python",
   "name": "python3"
  },
  "language_info": {
   "codemirror_mode": {
    "name": "ipython",
    "version": 3
   },
   "file_extension": ".py",
   "mimetype": "text/x-python",
   "name": "python",
   "nbconvert_exporter": "python",
   "pygments_lexer": "ipython3",
   "version": "3.12.4"
  }
 },
 "nbformat": 4,
 "nbformat_minor": 5
}
