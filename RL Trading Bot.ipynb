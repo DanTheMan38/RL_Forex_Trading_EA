{
 "cells": [
  {
   "cell_type": "code",
   "execution_count": 85,
   "id": "ad6fcadc-6961-4263-90b7-3e77277153e1",
   "metadata": {
    "scrolled": true
   },
   "outputs": [
    {
     "name": "stdout",
     "output_type": "stream",
     "text": [
      "       <DATE>    <TIME>   <OPEN>   <HIGH>    <LOW>  <CLOSE>  <TICKVOL>  <VOL>  \\\n",
      "0  2022.10.03  00:00:00  0.98008  0.98008  0.97833  0.97947        794      0   \n",
      "1  2022.10.03  01:00:00  0.97950  0.98087  0.97909  0.98008       2901      0   \n",
      "2  2022.10.03  02:00:00  0.98003  0.98028  0.97893  0.97932       3087      0   \n",
      "3  2022.10.03  03:00:00  0.97934  0.98040  0.97853  0.98015       4199      0   \n",
      "4  2022.10.03  04:00:00  0.98015  0.98286  0.98013  0.98255       4331      0   \n",
      "\n",
      "   <SPREAD>  \n",
      "0        35  \n",
      "1         8  \n",
      "2         8  \n",
      "3         8  \n",
      "4         8  \n"
     ]
    }
   ],
   "source": [
    "import pandas as pd\n",
    "import numpy as np\n",
    "\n",
    "df = pd.read_csv(r'C:\\Users\\Daniel\\Documents\\Trading\\Trading Bot\\EURUSD-H1-2Years.csv', delimiter='\\t')\n",
    "print(df.head())"
   ]
  },
  {
   "cell_type": "code",
   "execution_count": 86,
   "id": "54482684-b97a-403c-880c-b0a67d48c111",
   "metadata": {},
   "outputs": [
    {
     "name": "stdout",
     "output_type": "stream",
     "text": [
      "<DATE>       0\n",
      "<TIME>       0\n",
      "<OPEN>       0\n",
      "<HIGH>       0\n",
      "<LOW>        0\n",
      "<CLOSE>      0\n",
      "<TICKVOL>    0\n",
      "<VOL>        0\n",
      "<SPREAD>     0\n",
      "dtype: int64\n"
     ]
    }
   ],
   "source": [
    "print(df.isnull().sum())"
   ]
  },
  {
   "cell_type": "code",
   "execution_count": 87,
   "id": "c656d6ac-d748-47d7-9653-049d17a89ebc",
   "metadata": {},
   "outputs": [
    {
     "name": "stdout",
     "output_type": "stream",
     "text": [
      "<DATE>        object\n",
      "<TIME>        object\n",
      "<OPEN>       float64\n",
      "<HIGH>       float64\n",
      "<LOW>        float64\n",
      "<CLOSE>      float64\n",
      "<TICKVOL>      int64\n",
      "<VOL>          int64\n",
      "<SPREAD>       int64\n",
      "dtype: object\n"
     ]
    }
   ],
   "source": [
    "print(df.dtypes)"
   ]
  },
  {
   "cell_type": "code",
   "execution_count": 88,
   "id": "90e7be2c-fd44-4198-9171-1a2a158e1d96",
   "metadata": {},
   "outputs": [
    {
     "name": "stdout",
     "output_type": "stream",
     "text": [
      "         Date      Time     Open     High      Low    Close  TickVol  Vol  \\\n",
      "0  2022.10.03  00:00:00  0.98008  0.98008  0.97833  0.97947      794    0   \n",
      "1  2022.10.03  01:00:00  0.97950  0.98087  0.97909  0.98008     2901    0   \n",
      "2  2022.10.03  02:00:00  0.98003  0.98028  0.97893  0.97932     3087    0   \n",
      "3  2022.10.03  03:00:00  0.97934  0.98040  0.97853  0.98015     4199    0   \n",
      "4  2022.10.03  04:00:00  0.98015  0.98286  0.98013  0.98255     4331    0   \n",
      "\n",
      "   Spread  \n",
      "0      35  \n",
      "1       8  \n",
      "2       8  \n",
      "3       8  \n",
      "4       8  \n"
     ]
    }
   ],
   "source": [
    "df.columns = ['Date', 'Time', 'Open', 'High', 'Low', 'Close', 'TickVol', 'Vol', 'Spread']\n",
    "print(df.head())"
   ]
  },
  {
   "cell_type": "code",
   "execution_count": 89,
   "id": "ee229d1b-088e-46fa-b6ee-ebb602177e73",
   "metadata": {},
   "outputs": [
    {
     "name": "stdout",
     "output_type": "stream",
     "text": [
      "Date          datetime64[ns]\n",
      "Open                 float64\n",
      "High                 float64\n",
      "Low                  float64\n",
      "Close                float64\n",
      "TickVol                int64\n",
      "Spread                 int64\n",
      "Hour_sin             float64\n",
      "Hour_cos             float64\n",
      "Minute_sin           float64\n",
      "Minute_cos           float64\n",
      "dtype: object\n",
      "        Date     Open     High      Low    Close  TickVol  Spread  Hour_sin  \\\n",
      "0 2022-10-03  0.98008  0.98008  0.97833  0.97947      794      35  0.000000   \n",
      "1 2022-10-03  0.97950  0.98087  0.97909  0.98008     2901       8  0.258819   \n",
      "2 2022-10-03  0.98003  0.98028  0.97893  0.97932     3087       8  0.500000   \n",
      "3 2022-10-03  0.97934  0.98040  0.97853  0.98015     4199       8  0.707107   \n",
      "4 2022-10-03  0.98015  0.98286  0.98013  0.98255     4331       8  0.866025   \n",
      "\n",
      "   Hour_cos  Minute_sin  Minute_cos  \n",
      "0  1.000000         0.0         1.0  \n",
      "1  0.965926         0.0         1.0  \n",
      "2  0.866025         0.0         1.0  \n",
      "3  0.707107         0.0         1.0  \n",
      "4  0.500000         0.0         1.0  \n"
     ]
    }
   ],
   "source": [
    "df['Date'] = pd.to_datetime(df['Date'])\n",
    "\n",
    "# Ensure 'Time' is in datetime.time format\n",
    "df['Time'] = pd.to_datetime(df['Time'], format='%H:%M:%S').dt.time\n",
    "\n",
    "# Extract hour and minute\n",
    "df['Hour'] = df['Time'].apply(lambda x: x.hour)\n",
    "df['Minute'] = df['Time'].apply(lambda x: x.minute)\n",
    "\n",
    "# Cyclical encoding for Hour (0-23)\n",
    "df['Hour_sin'] = np.sin(2 * np.pi * df['Hour'] / 24)\n",
    "df['Hour_cos'] = np.cos(2 * np.pi * df['Hour'] / 24)\n",
    "\n",
    "# Cyclical encoding for Minute (0-59)\n",
    "df['Minute_sin'] = np.sin(2 * np.pi * df['Minute'] / 60)\n",
    "df['Minute_cos'] = np.cos(2 * np.pi * df['Minute'] / 60)\n",
    "\n",
    "# Optionally, drop the original Hour and Minute columns if not needed\n",
    "df.drop(['Hour', 'Minute'], axis=1, inplace=True)\n",
    "\n",
    "df = df.drop(['Vol'], axis=1)\n",
    "df = df.drop(['Time'], axis=1)\n",
    "\n",
    "print(df.dtypes)\n",
    "print(df.head())"
   ]
  },
  {
   "cell_type": "code",
   "execution_count": null,
   "id": "88cee86d-46b9-45e0-88bd-71cf5b2d70ef",
   "metadata": {},
   "outputs": [],
   "source": []
  },
  {
   "cell_type": "code",
   "execution_count": null,
   "id": "51128a4b-1436-4cb7-88bb-655c15092fd6",
   "metadata": {},
   "outputs": [],
   "source": []
  },
  {
   "cell_type": "code",
   "execution_count": null,
   "id": "17bf738d-f7dc-4d4d-98a8-bd067aa01a46",
   "metadata": {},
   "outputs": [],
   "source": []
  }
 ],
 "metadata": {
  "kernelspec": {
   "display_name": "Python 3 (ipykernel)",
   "language": "python",
   "name": "python3"
  },
  "language_info": {
   "codemirror_mode": {
    "name": "ipython",
    "version": 3
   },
   "file_extension": ".py",
   "mimetype": "text/x-python",
   "name": "python",
   "nbconvert_exporter": "python",
   "pygments_lexer": "ipython3",
   "version": "3.12.4"
  }
 },
 "nbformat": 4,
 "nbformat_minor": 5
}
